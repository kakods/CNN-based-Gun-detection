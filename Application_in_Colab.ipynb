{
  "nbformat": 4,
  "nbformat_minor": 0,
  "metadata": {
    "colab": {
      "name": "Application in Colab.ipynb",
      "version": "0.3.2",
      "provenance": [],
      "collapsed_sections": [],
      "include_colab_link": true
    },
    "kernelspec": {
      "name": "python3",
      "display_name": "Python 3"
    },
    "accelerator": "GPU"
  },
  "cells": [
    {
      "cell_type": "markdown",
      "metadata": {
        "id": "view-in-github",
        "colab_type": "text"
      },
      "source": [
        "<a href=\"https://colab.research.google.com/github/kakods/CNN-based-Gun-detection/blob/master/Application_in_Colab.ipynb\" target=\"_parent\"><img src=\"https://colab.research.google.com/assets/colab-badge.svg\" alt=\"Open In Colab\"/></a>"
      ]
    },
    {
      "cell_type": "markdown",
      "metadata": {
        "id": "LnWP9R8hbNAE",
        "colab_type": "text"
      },
      "source": [
        "# Setup\n"
      ]
    },
    {
      "cell_type": "code",
      "metadata": {
        "id": "0eAsEDiEH8Mz",
        "colab_type": "code",
        "colab": {
          "base_uri": "https://localhost:8080/",
          "height": 121
        },
        "outputId": "db9376a6-2dca-4dbf-f3f4-28daec5cf906"
      },
      "source": [
        "!git clone https://github.com/kakods/CNN-based-Gun-detection.git"
      ],
      "execution_count": 1,
      "outputs": [
        {
          "output_type": "stream",
          "text": [
            "Cloning into 'CNN-based-Gun-detection'...\n",
            "remote: Enumerating objects: 33, done.\u001b[K\n",
            "remote: Counting objects: 100% (33/33), done.\u001b[K\n",
            "remote: Compressing objects: 100% (31/31), done.\u001b[K\n",
            "remote: Total 33 (delta 11), reused 0 (delta 0), pack-reused 0\u001b[K\n",
            "Unpacking objects: 100% (33/33), done.\n"
          ],
          "name": "stdout"
        }
      ]
    },
    {
      "cell_type": "code",
      "metadata": {
        "id": "Ci_y-qo_IXVn",
        "colab_type": "code",
        "colab": {
          "base_uri": "https://localhost:8080/",
          "height": 34
        },
        "outputId": "1acb304e-bc13-4263-9c14-3992e40684aa"
      },
      "source": [
        "cd CNN-based-Gun-detection"
      ],
      "execution_count": 2,
      "outputs": [
        {
          "output_type": "stream",
          "text": [
            "/content/CNN-based-Gun-detection\n"
          ],
          "name": "stdout"
        }
      ]
    },
    {
      "cell_type": "code",
      "metadata": {
        "id": "QIkOXegyIiFr",
        "colab_type": "code",
        "colab": {}
      },
      "source": [
        "from setup import *"
      ],
      "execution_count": 0,
      "outputs": []
    },
    {
      "cell_type": "code",
      "metadata": {
        "id": "NS-_Xuo6b18E",
        "colab_type": "code",
        "outputId": "99114c23-5ea0-4968-d010-3e426d510ae5",
        "colab": {
          "base_uri": "https://localhost:8080/",
          "height": 124
        }
      },
      "source": [
        "!pip install youtube-dl"
      ],
      "execution_count": 4,
      "outputs": [
        {
          "output_type": "stream",
          "text": [
            "Collecting youtube-dl\n",
            "\u001b[?25l  Downloading https://files.pythonhosted.org/packages/0b/f3/e15e407992fb9597c4d88350a5e39afa48d26c82b04c702911f14bae02a9/youtube_dl-2019.6.27-py2.py3-none-any.whl (1.8MB)\n",
            "\u001b[K     |████████████████████████████████| 1.8MB 3.4MB/s \n",
            "\u001b[?25hInstalling collected packages: youtube-dl\n",
            "Successfully installed youtube-dl-2019.6.27\n"
          ],
          "name": "stdout"
        }
      ]
    },
    {
      "cell_type": "markdown",
      "metadata": {
        "id": "xhdIzuQib4rW",
        "colab_type": "text"
      },
      "source": [
        "# Weights\n"
      ]
    },
    {
      "cell_type": "code",
      "metadata": {
        "id": "786y3djQnURT",
        "colab_type": "code",
        "outputId": "29f4c71e-06fb-4751-a085-a5aa09bc0d3f",
        "colab": {
          "base_uri": "https://localhost:8080/",
          "height": 489
        }
      },
      "source": [
        "!wget wget https://www.dropbox.com/s/7f42lcdjx5ou5yl/export.pkl"
      ],
      "execution_count": 5,
      "outputs": [
        {
          "output_type": "stream",
          "text": [
            "--2019-06-28 17:41:48--  http://wget/\n",
            "Resolving wget (wget)... failed: Name or service not known.\n",
            "wget: unable to resolve host address ‘wget’\n",
            "--2019-06-28 17:41:48--  https://www.dropbox.com/s/7f42lcdjx5ou5yl/export.pkl\n",
            "Resolving www.dropbox.com (www.dropbox.com)... 162.125.8.1, 2620:100:601b:1::a27d:801\n",
            "Connecting to www.dropbox.com (www.dropbox.com)|162.125.8.1|:443... connected.\n",
            "HTTP request sent, awaiting response... 301 Moved Permanently\n",
            "Location: /s/raw/7f42lcdjx5ou5yl/export.pkl [following]\n",
            "--2019-06-28 17:41:48--  https://www.dropbox.com/s/raw/7f42lcdjx5ou5yl/export.pkl\n",
            "Reusing existing connection to www.dropbox.com:443.\n",
            "HTTP request sent, awaiting response... 302 Found\n",
            "Location: https://uc8469d3cbd1864320151f70b433.dl.dropboxusercontent.com/cd/0/inline/Ajsdvdx0GodQgW-4QUkwRuS9Y1ttkn0s41pRyHBDHukDn01HbeiJDKj2WQYyr84l6EinWuJOD4gcV3-2EXtBc-3C0MwCyowPxHAja7x3HP74UA/file# [following]\n",
            "--2019-06-28 17:41:48--  https://uc8469d3cbd1864320151f70b433.dl.dropboxusercontent.com/cd/0/inline/Ajsdvdx0GodQgW-4QUkwRuS9Y1ttkn0s41pRyHBDHukDn01HbeiJDKj2WQYyr84l6EinWuJOD4gcV3-2EXtBc-3C0MwCyowPxHAja7x3HP74UA/file\n",
            "Resolving uc8469d3cbd1864320151f70b433.dl.dropboxusercontent.com (uc8469d3cbd1864320151f70b433.dl.dropboxusercontent.com)... 162.125.8.6, 2620:100:6018:6::a27d:306\n",
            "Connecting to uc8469d3cbd1864320151f70b433.dl.dropboxusercontent.com (uc8469d3cbd1864320151f70b433.dl.dropboxusercontent.com)|162.125.8.6|:443... connected.\n",
            "HTTP request sent, awaiting response... 200 OK\n",
            "Length: 147373163 (141M) [text/plain]\n",
            "Saving to: ‘export.pkl’\n",
            "\n",
            "export.pkl          100%[===================>] 140.55M  39.1MB/s    in 3.6s    \n",
            "\n",
            "2019-06-28 17:41:52 (39.1 MB/s) - ‘export.pkl’ saved [147373163/147373163]\n",
            "\n",
            "FINISHED --2019-06-28 17:41:52--\n",
            "Total wall clock time: 4.8s\n",
            "Downloaded: 1 files, 141M in 3.6s (39.1 MB/s)\n"
          ],
          "name": "stdout"
        }
      ]
    },
    {
      "cell_type": "code",
      "metadata": {
        "id": "WGjRGMyTq4Ya",
        "colab_type": "code",
        "colab": {}
      },
      "source": [
        "!mkdir model\n",
        "path=Path('model')\n",
        "!mv export.pkl model"
      ],
      "execution_count": 0,
      "outputs": []
    },
    {
      "cell_type": "code",
      "metadata": {
        "id": "fBQB9u0goPMy",
        "colab_type": "code",
        "colab": {}
      },
      "source": [
        "learn=load_learner(path)"
      ],
      "execution_count": 0,
      "outputs": []
    },
    {
      "cell_type": "code",
      "metadata": {
        "id": "iZziijJmvgAX",
        "colab_type": "code",
        "colab": {}
      },
      "source": [
        "classes=['bg','pistol','rifle']"
      ],
      "execution_count": 0,
      "outputs": []
    },
    {
      "cell_type": "markdown",
      "metadata": {
        "id": "3hkusrzQDtHd",
        "colab_type": "text"
      },
      "source": [
        "# Video\n"
      ]
    },
    {
      "cell_type": "code",
      "metadata": {
        "id": "1If9UmELKGbV",
        "colab_type": "code",
        "colab": {}
      },
      "source": [
        "!mkdir temp"
      ],
      "execution_count": 0,
      "outputs": []
    },
    {
      "cell_type": "code",
      "metadata": {
        "id": "Hgbylg8SB1JX",
        "colab_type": "code",
        "outputId": "39083aff-d0cb-4e01-8146-e44da9937110",
        "cellView": "form",
        "colab": {
          "base_uri": "https://localhost:8080/",
          "height": 434
        }
      },
      "source": [
        "#@title Entre the url of the video\n",
        "#@markdown We have provided an example.\n",
        "\n",
        "url = 'https://www.youtube.com/watch?v=EOwHDTAZVEU'#@param {type: \"string\"}\n",
        "!youtube-dl -F {url} \n",
        "#@markdown ---\n",
        "#@title Enter the name of the video and the threshold. We suggest to use 0.5\n"
      ],
      "execution_count": 10,
      "outputs": [
        {
          "output_type": "stream",
          "text": [
            "[youtube] EOwHDTAZVEU: Downloading webpage\n",
            "[youtube] EOwHDTAZVEU: Downloading video info webpage\n",
            "[info] Available formats for EOwHDTAZVEU:\n",
            "format code  extension  resolution note\n",
            "249          webm       audio only DASH audio   51k , opus @ 50k, 350.23KiB\n",
            "250          webm       audio only DASH audio   58k , opus @ 70k, 398.52KiB\n",
            "171          webm       audio only DASH audio   90k , vorbis@128k, 590.13KiB\n",
            "251          webm       audio only DASH audio  108k , opus @160k, 731.83KiB\n",
            "140          m4a        audio only DASH audio  127k , m4a_dash container, mp4a.40.2@128k, 902.07KiB\n",
            "278          webm       256x144    144p  101k , webm container, vp9, 24fps, video only, 637.87KiB\n",
            "160          mp4        256x144    144p  114k , avc1.4d400c, 24fps, video only, 792.27KiB\n",
            "242          webm       426x240    240p  161k , vp9, 24fps, video only, 721.22KiB\n",
            "133          mp4        426x240    240p  251k , avc1.4d4015, 24fps, video only, 1.71MiB\n",
            "134          mp4        640x360    360p  252k , avc1.4d401e, 24fps, video only, 1.66MiB\n",
            "243          webm       640x360    360p  288k , vp9, 24fps, video only, 1.31MiB\n",
            "244          webm       854x480    480p  481k , vp9, 24fps, video only, 2.17MiB\n",
            "135          mp4        854x480    480p  540k , avc1.4d401e, 24fps, video only, 3.47MiB\n",
            "247          webm       1280x720   720p  950k , vp9, 24fps, video only, 4.42MiB\n",
            "136          mp4        1280x720   720p 1122k , avc1.4d401f, 24fps, video only, 6.89MiB\n",
            "248          webm       1920x1080  1080p 1625k , vp9, 24fps, video only, 8.20MiB\n",
            "137          mp4        1920x1080  1080p 2003k , avc1.640028, 24fps, video only, 13.01MiB\n",
            "18           mp4        640x360    medium , avc1.42001E, mp4a.40.2@ 96k, 2.57MiB\n",
            "43           webm       640x360    medium , vp8.0, vorbis@128k, 3.35MiB\n",
            "22           mp4        1280x720   hd720 , avc1.64001F, mp4a.40.2@192k (best)\n"
          ],
          "name": "stdout"
        }
      ]
    },
    {
      "cell_type": "code",
      "metadata": {
        "id": "HcR4WiQi3YPT",
        "colab_type": "code",
        "cellView": "form",
        "outputId": "544b9ff7-9e33-414c-fe44-de4671129c0f",
        "colab": {
          "base_uri": "https://localhost:8080/",
          "height": 86
        }
      },
      "source": [
        "#@title From the above statistics, choose format code where extention is only mp4 \n",
        "#@markdown Try to use medium resolution.\n",
        "\n",
        "format_code = '134'#@param {type: \"string\"}\n",
        "name = 'test.mkv'  #@param {type: \"string\"}\n",
        "detect_thresh = 0.55 #@param {type:\"slider\", min:0, max:1, step:0.05}\n",
        "!youtube-dl -f {format_code} -o {name} {url} \n",
        "#@markdown ---\n",
        "#@title Enter the name of the video and the threshold. We suggest to use 0.5\n",
        "\n",
        "\n"
      ],
      "execution_count": 11,
      "outputs": [
        {
          "output_type": "stream",
          "text": [
            "[youtube] EOwHDTAZVEU: Downloading webpage\n",
            "[youtube] EOwHDTAZVEU: Downloading video info webpage\n",
            "[download] Destination: test.mkv\n",
            "\u001b[K[download] 100% of 1.66MiB in 00:00\n"
          ],
          "name": "stdout"
        }
      ]
    },
    {
      "cell_type": "code",
      "metadata": {
        "id": "eWw2zUznxFx7",
        "colab_type": "code",
        "outputId": "3ed6b52f-092c-462d-ef85-79ea7618dedb",
        "colab": {
          "base_uri": "https://localhost:8080/",
          "height": 382
        }
      },
      "source": [
        "%%time\n",
        "gun_detection_on_video(learn,name,detect_thresh,classes)"
      ],
      "execution_count": 13,
      "outputs": [
        {
          "output_type": "error",
          "ename": "NameError",
          "evalue": "ignored",
          "traceback": [
            "\u001b[0;31m---------------------------------------------------------------------------\u001b[0m",
            "\u001b[0;31mNameError\u001b[0m                                 Traceback (most recent call last)",
            "\u001b[0;32m<ipython-input-13-a480834fa623>\u001b[0m in \u001b[0;36m<module>\u001b[0;34m()\u001b[0m\n\u001b[0;32m----> 1\u001b[0;31m \u001b[0mget_ipython\u001b[0m\u001b[0;34m(\u001b[0m\u001b[0;34m)\u001b[0m\u001b[0;34m.\u001b[0m\u001b[0mrun_cell_magic\u001b[0m\u001b[0;34m(\u001b[0m\u001b[0;34m'time'\u001b[0m\u001b[0;34m,\u001b[0m \u001b[0;34m''\u001b[0m\u001b[0;34m,\u001b[0m \u001b[0;34m'gun_detection_on_video(learn,name,detect_thresh)'\u001b[0m\u001b[0;34m)\u001b[0m\u001b[0;34m\u001b[0m\u001b[0;34m\u001b[0m\u001b[0m\n\u001b[0m",
            "\u001b[0;32m/usr/local/lib/python3.6/dist-packages/IPython/core/interactiveshell.py\u001b[0m in \u001b[0;36mrun_cell_magic\u001b[0;34m(self, magic_name, line, cell)\u001b[0m\n\u001b[1;32m   2115\u001b[0m             \u001b[0mmagic_arg_s\u001b[0m \u001b[0;34m=\u001b[0m \u001b[0mself\u001b[0m\u001b[0;34m.\u001b[0m\u001b[0mvar_expand\u001b[0m\u001b[0;34m(\u001b[0m\u001b[0mline\u001b[0m\u001b[0;34m,\u001b[0m \u001b[0mstack_depth\u001b[0m\u001b[0;34m)\u001b[0m\u001b[0;34m\u001b[0m\u001b[0;34m\u001b[0m\u001b[0m\n\u001b[1;32m   2116\u001b[0m             \u001b[0;32mwith\u001b[0m \u001b[0mself\u001b[0m\u001b[0;34m.\u001b[0m\u001b[0mbuiltin_trap\u001b[0m\u001b[0;34m:\u001b[0m\u001b[0;34m\u001b[0m\u001b[0;34m\u001b[0m\u001b[0m\n\u001b[0;32m-> 2117\u001b[0;31m                 \u001b[0mresult\u001b[0m \u001b[0;34m=\u001b[0m \u001b[0mfn\u001b[0m\u001b[0;34m(\u001b[0m\u001b[0mmagic_arg_s\u001b[0m\u001b[0;34m,\u001b[0m \u001b[0mcell\u001b[0m\u001b[0;34m)\u001b[0m\u001b[0;34m\u001b[0m\u001b[0;34m\u001b[0m\u001b[0m\n\u001b[0m\u001b[1;32m   2118\u001b[0m             \u001b[0;32mreturn\u001b[0m \u001b[0mresult\u001b[0m\u001b[0;34m\u001b[0m\u001b[0;34m\u001b[0m\u001b[0m\n\u001b[1;32m   2119\u001b[0m \u001b[0;34m\u001b[0m\u001b[0m\n",
            "\u001b[0;32m</usr/local/lib/python3.6/dist-packages/decorator.py:decorator-gen-60>\u001b[0m in \u001b[0;36mtime\u001b[0;34m(self, line, cell, local_ns)\u001b[0m\n",
            "\u001b[0;32m/usr/local/lib/python3.6/dist-packages/IPython/core/magic.py\u001b[0m in \u001b[0;36m<lambda>\u001b[0;34m(f, *a, **k)\u001b[0m\n\u001b[1;32m    186\u001b[0m     \u001b[0;31m# but it's overkill for just that one bit of state.\u001b[0m\u001b[0;34m\u001b[0m\u001b[0;34m\u001b[0m\u001b[0;34m\u001b[0m\u001b[0m\n\u001b[1;32m    187\u001b[0m     \u001b[0;32mdef\u001b[0m \u001b[0mmagic_deco\u001b[0m\u001b[0;34m(\u001b[0m\u001b[0marg\u001b[0m\u001b[0;34m)\u001b[0m\u001b[0;34m:\u001b[0m\u001b[0;34m\u001b[0m\u001b[0;34m\u001b[0m\u001b[0m\n\u001b[0;32m--> 188\u001b[0;31m         \u001b[0mcall\u001b[0m \u001b[0;34m=\u001b[0m \u001b[0;32mlambda\u001b[0m \u001b[0mf\u001b[0m\u001b[0;34m,\u001b[0m \u001b[0;34m*\u001b[0m\u001b[0ma\u001b[0m\u001b[0;34m,\u001b[0m \u001b[0;34m**\u001b[0m\u001b[0mk\u001b[0m\u001b[0;34m:\u001b[0m \u001b[0mf\u001b[0m\u001b[0;34m(\u001b[0m\u001b[0;34m*\u001b[0m\u001b[0ma\u001b[0m\u001b[0;34m,\u001b[0m \u001b[0;34m**\u001b[0m\u001b[0mk\u001b[0m\u001b[0;34m)\u001b[0m\u001b[0;34m\u001b[0m\u001b[0;34m\u001b[0m\u001b[0m\n\u001b[0m\u001b[1;32m    189\u001b[0m \u001b[0;34m\u001b[0m\u001b[0m\n\u001b[1;32m    190\u001b[0m         \u001b[0;32mif\u001b[0m \u001b[0mcallable\u001b[0m\u001b[0;34m(\u001b[0m\u001b[0marg\u001b[0m\u001b[0;34m)\u001b[0m\u001b[0;34m:\u001b[0m\u001b[0;34m\u001b[0m\u001b[0;34m\u001b[0m\u001b[0m\n",
            "\u001b[0;32m/usr/local/lib/python3.6/dist-packages/IPython/core/magics/execution.py\u001b[0m in \u001b[0;36mtime\u001b[0;34m(self, line, cell, local_ns)\u001b[0m\n\u001b[1;32m   1187\u001b[0m         \u001b[0;32mif\u001b[0m \u001b[0mmode\u001b[0m\u001b[0;34m==\u001b[0m\u001b[0;34m'eval'\u001b[0m\u001b[0;34m:\u001b[0m\u001b[0;34m\u001b[0m\u001b[0;34m\u001b[0m\u001b[0m\n\u001b[1;32m   1188\u001b[0m             \u001b[0mst\u001b[0m \u001b[0;34m=\u001b[0m \u001b[0mclock2\u001b[0m\u001b[0;34m(\u001b[0m\u001b[0;34m)\u001b[0m\u001b[0;34m\u001b[0m\u001b[0;34m\u001b[0m\u001b[0m\n\u001b[0;32m-> 1189\u001b[0;31m             \u001b[0mout\u001b[0m \u001b[0;34m=\u001b[0m \u001b[0meval\u001b[0m\u001b[0;34m(\u001b[0m\u001b[0mcode\u001b[0m\u001b[0;34m,\u001b[0m \u001b[0mglob\u001b[0m\u001b[0;34m,\u001b[0m \u001b[0mlocal_ns\u001b[0m\u001b[0;34m)\u001b[0m\u001b[0;34m\u001b[0m\u001b[0;34m\u001b[0m\u001b[0m\n\u001b[0m\u001b[1;32m   1190\u001b[0m             \u001b[0mend\u001b[0m \u001b[0;34m=\u001b[0m \u001b[0mclock2\u001b[0m\u001b[0;34m(\u001b[0m\u001b[0;34m)\u001b[0m\u001b[0;34m\u001b[0m\u001b[0;34m\u001b[0m\u001b[0m\n\u001b[1;32m   1191\u001b[0m         \u001b[0;32melse\u001b[0m\u001b[0;34m:\u001b[0m\u001b[0;34m\u001b[0m\u001b[0;34m\u001b[0m\u001b[0m\n",
            "\u001b[0;32m<timed eval>\u001b[0m in \u001b[0;36m<module>\u001b[0;34m()\u001b[0m\n",
            "\u001b[0;32m/content/CNN-based-Gun-detection/setup.py\u001b[0m in \u001b[0;36mgun_detection_on_video\u001b[0;34m(learn, name, detect_thresh)\u001b[0m\n\u001b[1;32m    432\u001b[0m         \u001b[0mbbox_pred\u001b[0m \u001b[0;34m=\u001b[0m \u001b[0mbbox_pred\u001b[0m\u001b[0;34m.\u001b[0m\u001b[0mlong\u001b[0m\u001b[0;34m(\u001b[0m\u001b[0;34m)\u001b[0m\u001b[0;34m\u001b[0m\u001b[0;34m\u001b[0m\u001b[0m\n\u001b[1;32m    433\u001b[0m         \u001b[0;32mfor\u001b[0m \u001b[0mbbox\u001b[0m\u001b[0;34m,\u001b[0m \u001b[0mc\u001b[0m\u001b[0;34m,\u001b[0m \u001b[0mscr\u001b[0m \u001b[0;32min\u001b[0m \u001b[0mzip\u001b[0m\u001b[0;34m(\u001b[0m\u001b[0mbbox_pred\u001b[0m\u001b[0;34m,\u001b[0m \u001b[0mpreds\u001b[0m\u001b[0;34m,\u001b[0m \u001b[0mscores\u001b[0m\u001b[0;34m)\u001b[0m\u001b[0;34m:\u001b[0m\u001b[0;34m\u001b[0m\u001b[0;34m\u001b[0m\u001b[0m\n\u001b[0;32m--> 434\u001b[0;31m           \u001b[0mtxt\u001b[0m \u001b[0;34m=\u001b[0m \u001b[0mstr\u001b[0m\u001b[0;34m(\u001b[0m\u001b[0mc\u001b[0m\u001b[0;34m.\u001b[0m\u001b[0mitem\u001b[0m\u001b[0;34m(\u001b[0m\u001b[0;34m)\u001b[0m\u001b[0;34m)\u001b[0m \u001b[0;32mif\u001b[0m \u001b[0mclasses\u001b[0m \u001b[0;32mis\u001b[0m \u001b[0;32mNone\u001b[0m \u001b[0;32melse\u001b[0m \u001b[0mclasses\u001b[0m\u001b[0;34m[\u001b[0m\u001b[0mc\u001b[0m\u001b[0;34m.\u001b[0m\u001b[0mitem\u001b[0m\u001b[0;34m(\u001b[0m\u001b[0;34m)\u001b[0m\u001b[0;34m+\u001b[0m\u001b[0;36m1\u001b[0m\u001b[0;34m]\u001b[0m\u001b[0;34m\u001b[0m\u001b[0;34m\u001b[0m\u001b[0m\n\u001b[0m\u001b[1;32m    435\u001b[0m           \u001b[0mtext\u001b[0m\u001b[0;34m=\u001b[0m\u001b[0;34mf'{txt} {scr:.2f}'\u001b[0m\u001b[0;34m\u001b[0m\u001b[0;34m\u001b[0m\u001b[0m\n\u001b[1;32m    436\u001b[0m           \u001b[0mcv2\u001b[0m\u001b[0;34m.\u001b[0m\u001b[0mrectangle\u001b[0m\u001b[0;34m(\u001b[0m\u001b[0mframe\u001b[0m\u001b[0;34m,\u001b[0m\u001b[0;34m(\u001b[0m\u001b[0mbbox\u001b[0m\u001b[0;34m[\u001b[0m\u001b[0;36m1\u001b[0m\u001b[0;34m]\u001b[0m\u001b[0;34m,\u001b[0m \u001b[0mbbox\u001b[0m\u001b[0;34m[\u001b[0m\u001b[0;36m0\u001b[0m\u001b[0;34m]\u001b[0m\u001b[0;34m)\u001b[0m\u001b[0;34m,\u001b[0m \u001b[0;34m(\u001b[0m\u001b[0mbbox\u001b[0m\u001b[0;34m[\u001b[0m\u001b[0;36m3\u001b[0m\u001b[0;34m]\u001b[0m\u001b[0;34m+\u001b[0m\u001b[0mbbox\u001b[0m\u001b[0;34m[\u001b[0m\u001b[0;36m1\u001b[0m\u001b[0;34m]\u001b[0m\u001b[0;34m-\u001b[0m\u001b[0;36m1\u001b[0m\u001b[0;34m,\u001b[0m \u001b[0mbbox\u001b[0m\u001b[0;34m[\u001b[0m\u001b[0;36m2\u001b[0m\u001b[0;34m]\u001b[0m\u001b[0;34m+\u001b[0m\u001b[0mbbox\u001b[0m\u001b[0;34m[\u001b[0m\u001b[0;36m0\u001b[0m\u001b[0;34m]\u001b[0m\u001b[0;34m-\u001b[0m\u001b[0;36m1\u001b[0m\u001b[0;34m)\u001b[0m\u001b[0;34m,\u001b[0m\u001b[0;34m(\u001b[0m\u001b[0;36m0\u001b[0m\u001b[0;34m,\u001b[0m\u001b[0;36m255\u001b[0m\u001b[0;34m,\u001b[0m\u001b[0;36m0\u001b[0m\u001b[0;34m)\u001b[0m\u001b[0;34m,\u001b[0m\u001b[0;36m2\u001b[0m\u001b[0;34m)\u001b[0m\u001b[0;34m\u001b[0m\u001b[0;34m\u001b[0m\u001b[0m\n",
            "\u001b[0;31mNameError\u001b[0m: name 'classes' is not defined"
          ]
        }
      ]
    },
    {
      "cell_type": "code",
      "metadata": {
        "id": "IBS5heseJL_t",
        "colab_type": "code",
        "colab": {}
      },
      "source": [
        "!rm -r temp"
      ],
      "execution_count": 0,
      "outputs": []
    },
    {
      "cell_type": "markdown",
      "metadata": {
        "id": "niUOqwKkFyvY",
        "colab_type": "text"
      },
      "source": [
        "# Image"
      ]
    },
    {
      "cell_type": "code",
      "metadata": {
        "id": "G6GpvYNrF1F7",
        "colab_type": "code",
        "outputId": "96edfe2a-0248-432f-f284-cd5980e01071",
        "cellView": "form",
        "colab": {
          "base_uri": "https://localhost:8080/",
          "height": 208
        }
      },
      "source": [
        "#@title Entre the url of the image\n",
        "#@markdown We have provided an example.\n",
        "\n",
        "url = 'https://img.youtube.com/vi/oEq4KmGZ4a0/hqdefault.jpg'#@param {type: \"string\"}\n",
        "!wget {url} -O test.jpg\n",
        "#@title Enter the name of the video and the threshold. We suggest to use 0.5\n",
        "\n",
        "name = 'test.jpg'  #@param {type: \"string\"}\n",
        "detect_thresh = 0.5 #@param {type:\"slider\", min:0, m\n",
        "#@markdown ---"
      ],
      "execution_count": 0,
      "outputs": [
        {
          "output_type": "stream",
          "text": [
            "--2019-06-27 22:59:25--  https://img.youtube.com/vi/oEq4KmGZ4a0/hqdefault.jpg\n",
            "Resolving img.youtube.com (img.youtube.com)... 108.177.120.138, 173.194.192.100, 173.194.192.101, ...\n",
            "Connecting to img.youtube.com (img.youtube.com)|108.177.120.138|:443... connected.\n",
            "HTTP request sent, awaiting response... 200 OK\n",
            "Length: 10772 (11K) [image/jpeg]\n",
            "Saving to: ‘test.jpg’\n",
            "\n",
            "\rtest.jpg              0%[                    ]       0  --.-KB/s               \rtest.jpg            100%[===================>]  10.52K  --.-KB/s    in 0s      \n",
            "\n",
            "2019-06-27 22:59:25 (79.9 MB/s) - ‘test.jpg’ saved [10772/10772]\n",
            "\n"
          ],
          "name": "stdout"
        }
      ]
    },
    {
      "cell_type": "code",
      "metadata": {
        "id": "um5cJw5HGIcn",
        "colab_type": "code",
        "colab": {}
      },
      "source": [
        "%%time\n",
        "gun_detection_on_image(learn,name,detect_thresh,classes)"
      ],
      "execution_count": 0,
      "outputs": []
    },
    {
      "cell_type": "code",
      "metadata": {
        "id": "6BwDNiaIKAzx",
        "colab_type": "code",
        "colab": {}
      },
      "source": [
        ""
      ],
      "execution_count": 0,
      "outputs": []
    }
  ]
}